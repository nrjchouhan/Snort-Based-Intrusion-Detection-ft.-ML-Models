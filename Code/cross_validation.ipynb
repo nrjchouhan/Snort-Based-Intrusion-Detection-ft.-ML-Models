{
 "cells": [
  {
   "cell_type": "code",
   "execution_count": 1,
   "metadata": {},
   "outputs": [],
   "source": [
    "import numpy as np\n",
    "import matplotlib.pyplot as plt\n",
    "import pandas as pd\n",
    "import models\n",
    "from sklearn.model_selection import StratifiedKFold\n"
   ]
  },
  {
   "cell_type": "code",
   "execution_count": 2,
   "metadata": {},
   "outputs": [],
   "source": [
    "## NSL Dataset has the following features\n",
    "\n",
    "column_names = ['duration','protocol_type','service','flag','src_bytes','dst_bytes','land',\n",
    "'wrong_fragment','urgent','hot','num_failed_logins','logged_in','num_compromised','root_shell',\n",
    "'su_attempted','num_root','num_file_creations','num_shells','num_access_files','num_outbound_cmds',\n",
    "'is_host_login','is_guest_login','count','srv_count','serror_rate','srv_serror_rate','rerror_rate','srv_rerror_rate',\n",
    "'same_srv_rate','diff_srv_rate','srv_diff_host_rate','dst_host_count','dst_host_srv_count',\n",
    "'dst_host_same_srv_rate','dst_host_diff_srv_rate','dst_host_same_src_port_rate','dst_host_srv_diff_host_rate',\n",
    "'dst_host_serror_rate','dst_host_srv_serror_rate','dst_host_rerror_rate','dst_host_srv_rerror_rate', 'class','misc']\n",
    "dataset = pd.read_csv('NSL-KDD/KDDTrain+.txt', header = None,names=column_names,index_col=False)\n"
   ]
  },
  {
   "cell_type": "code",
   "execution_count": 3,
   "metadata": {},
   "outputs": [],
   "source": [
    "## features relevant to SNORT's connection data\n",
    "\n",
    "column_names = [\"duration\", \"protocol_type\", \"src_bytes\", \"dst_bytes\", \"count\", \"srv_count\", \"class\"]\n",
    "dataset=dataset[column_names]"
   ]
  },
  {
   "cell_type": "code",
   "execution_count": 4,
   "metadata": {},
   "outputs": [],
   "source": [
    "## final output class (since we are doing binary classification) as 'attack' or 'normal'\n",
    "\n",
    "dataset['class']= dataset['class'].replace(['back', 'buffer_overflow', 'ftp_write', 'guess_passwd', 'imap', 'ipsweep', 'land', 'loadmodule', 'multihop', 'neptune', 'nmap', 'perl', 'phf', 'pod', 'portsweep', 'rootkit', 'satan', 'smurf', 'spy', 'teardrop', 'warezclient', 'warezmaster'], 'attack')\n",
    "x = dataset.iloc[:, :-1].values\n",
    "y = dataset['class'].values"
   ]
  },
  {
   "cell_type": "code",
   "execution_count": 5,
   "metadata": {},
   "outputs": [],
   "source": [
    "#encoding categorical data\n",
    "\n",
    "from sklearn.preprocessing import LabelEncoder\n",
    "labelencoder_x_1 = LabelEncoder()\n",
    "x[:, 1] = labelencoder_x_1.fit_transform(x[:, 1])"
   ]
  },
  {
   "cell_type": "code",
   "execution_count": 6,
   "metadata": {},
   "outputs": [
    {
     "data": {
      "text/html": [
       "<div>\n",
       "<style scoped>\n",
       "    .dataframe tbody tr th:only-of-type {\n",
       "        vertical-align: middle;\n",
       "    }\n",
       "\n",
       "    .dataframe tbody tr th {\n",
       "        vertical-align: top;\n",
       "    }\n",
       "\n",
       "    .dataframe thead th {\n",
       "        text-align: right;\n",
       "    }\n",
       "</style>\n",
       "<table border=\"1\" class=\"dataframe\">\n",
       "  <thead>\n",
       "    <tr style=\"text-align: right;\">\n",
       "      <th></th>\n",
       "      <th>duration</th>\n",
       "      <th>protocol_type</th>\n",
       "      <th>src_bytes</th>\n",
       "      <th>dst_bytes</th>\n",
       "      <th>count</th>\n",
       "      <th>srv_count</th>\n",
       "      <th>class</th>\n",
       "    </tr>\n",
       "  </thead>\n",
       "  <tbody>\n",
       "    <tr>\n",
       "      <th>0</th>\n",
       "      <td>0</td>\n",
       "      <td>tcp</td>\n",
       "      <td>491</td>\n",
       "      <td>0</td>\n",
       "      <td>2</td>\n",
       "      <td>2</td>\n",
       "      <td>normal</td>\n",
       "    </tr>\n",
       "    <tr>\n",
       "      <th>1</th>\n",
       "      <td>0</td>\n",
       "      <td>udp</td>\n",
       "      <td>146</td>\n",
       "      <td>0</td>\n",
       "      <td>13</td>\n",
       "      <td>1</td>\n",
       "      <td>normal</td>\n",
       "    </tr>\n",
       "    <tr>\n",
       "      <th>2</th>\n",
       "      <td>0</td>\n",
       "      <td>tcp</td>\n",
       "      <td>0</td>\n",
       "      <td>0</td>\n",
       "      <td>123</td>\n",
       "      <td>6</td>\n",
       "      <td>attack</td>\n",
       "    </tr>\n",
       "    <tr>\n",
       "      <th>3</th>\n",
       "      <td>0</td>\n",
       "      <td>tcp</td>\n",
       "      <td>232</td>\n",
       "      <td>8153</td>\n",
       "      <td>5</td>\n",
       "      <td>5</td>\n",
       "      <td>normal</td>\n",
       "    </tr>\n",
       "    <tr>\n",
       "      <th>4</th>\n",
       "      <td>0</td>\n",
       "      <td>tcp</td>\n",
       "      <td>199</td>\n",
       "      <td>420</td>\n",
       "      <td>30</td>\n",
       "      <td>32</td>\n",
       "      <td>normal</td>\n",
       "    </tr>\n",
       "  </tbody>\n",
       "</table>\n",
       "</div>"
      ],
      "text/plain": [
       "   duration protocol_type  src_bytes  dst_bytes  count  srv_count   class\n",
       "0         0           tcp        491          0      2          2  normal\n",
       "1         0           udp        146          0     13          1  normal\n",
       "2         0           tcp          0          0    123          6  attack\n",
       "3         0           tcp        232       8153      5          5  normal\n",
       "4         0           tcp        199        420     30         32  normal"
      ]
     },
     "execution_count": 6,
     "metadata": {},
     "output_type": "execute_result"
    }
   ],
   "source": [
    "dataset.head()"
   ]
  },
  {
   "cell_type": "code",
   "execution_count": 7,
   "metadata": {},
   "outputs": [],
   "source": [
    "## spliting dataset into input x and output y\n",
    "\n",
    "x=pd.DataFrame(x, columns = column_names[:-1])"
   ]
  },
  {
   "cell_type": "code",
   "execution_count": 8,
   "metadata": {},
   "outputs": [
    {
     "data": {
      "text/html": [
       "<div>\n",
       "<style scoped>\n",
       "    .dataframe tbody tr th:only-of-type {\n",
       "        vertical-align: middle;\n",
       "    }\n",
       "\n",
       "    .dataframe tbody tr th {\n",
       "        vertical-align: top;\n",
       "    }\n",
       "\n",
       "    .dataframe thead th {\n",
       "        text-align: right;\n",
       "    }\n",
       "</style>\n",
       "<table border=\"1\" class=\"dataframe\">\n",
       "  <thead>\n",
       "    <tr style=\"text-align: right;\">\n",
       "      <th></th>\n",
       "      <th>duration</th>\n",
       "      <th>src_bytes</th>\n",
       "      <th>dst_bytes</th>\n",
       "      <th>count</th>\n",
       "      <th>srv_count</th>\n",
       "    </tr>\n",
       "  </thead>\n",
       "  <tbody>\n",
       "    <tr>\n",
       "      <th>duration</th>\n",
       "      <td>1.000000</td>\n",
       "      <td>0.070737</td>\n",
       "      <td>0.034878</td>\n",
       "      <td>-0.079042</td>\n",
       "      <td>-0.039470</td>\n",
       "    </tr>\n",
       "    <tr>\n",
       "      <th>src_bytes</th>\n",
       "      <td>0.070737</td>\n",
       "      <td>1.000000</td>\n",
       "      <td>0.000204</td>\n",
       "      <td>-0.005152</td>\n",
       "      <td>-0.002792</td>\n",
       "    </tr>\n",
       "    <tr>\n",
       "      <th>dst_bytes</th>\n",
       "      <td>0.034878</td>\n",
       "      <td>0.000204</td>\n",
       "      <td>1.000000</td>\n",
       "      <td>-0.003543</td>\n",
       "      <td>-0.001754</td>\n",
       "    </tr>\n",
       "    <tr>\n",
       "      <th>count</th>\n",
       "      <td>-0.079042</td>\n",
       "      <td>-0.005152</td>\n",
       "      <td>-0.003543</td>\n",
       "      <td>1.000000</td>\n",
       "      <td>0.471079</td>\n",
       "    </tr>\n",
       "    <tr>\n",
       "      <th>srv_count</th>\n",
       "      <td>-0.039470</td>\n",
       "      <td>-0.002792</td>\n",
       "      <td>-0.001754</td>\n",
       "      <td>0.471079</td>\n",
       "      <td>1.000000</td>\n",
       "    </tr>\n",
       "  </tbody>\n",
       "</table>\n",
       "</div>"
      ],
      "text/plain": [
       "           duration  src_bytes  dst_bytes     count  srv_count\n",
       "duration   1.000000   0.070737   0.034878 -0.079042  -0.039470\n",
       "src_bytes  0.070737   1.000000   0.000204 -0.005152  -0.002792\n",
       "dst_bytes  0.034878   0.000204   1.000000 -0.003543  -0.001754\n",
       "count     -0.079042  -0.005152  -0.003543  1.000000   0.471079\n",
       "srv_count -0.039470  -0.002792  -0.001754  0.471079   1.000000"
      ]
     },
     "execution_count": 8,
     "metadata": {},
     "output_type": "execute_result"
    }
   ],
   "source": [
    "dataset.corr()"
   ]
  },
  {
   "cell_type": "code",
   "execution_count": 62,
   "metadata": {},
   "outputs": [],
   "source": [
    "## running k fold cross validation on training dataset for all algorithms and recording accuracy, false alarm rate\n",
    "\n",
    "accuracy={'Random Forest Classifier':[],'AdaBoost Classifier':[],'MLP Classifier':[],'Gradient Boosting Classifier':[],'Logistic Regression':[],'SGD':[],'Decision Tree':[],'KNN Classifier':[],'Histogram Based Gradient Boosting Classifier':[],'Gaussian Naive Bias':[]}\n",
    "false_alarm_rate={'Random Forest Classifier':[],'AdaBoost Classifier':[],'MLP Classifier':[],'Gradient Boosting Classifier':[],'Logistic Regression':[],'SGD':[],'Decision Tree':[],'KNN Classifier':[],'Histogram Based Gradient Boosting Classifier':[],'Gaussian Naive Bias':[]}\n",
    "\n",
    "folds = StratifiedKFold(n_splits=7)\n",
    "for train_index, test_index in folds.split(x,y) :\n",
    "    X_train, X_test = x.iloc[train_index],x.iloc[test_index]\n",
    "    y_train,y_test=y[train_index],y[test_index]\n",
    "    acc,far=models.rfc(X_train,X_test,y_train,y_test)\n",
    "    accuracy['Random Forest Classifier'].append(acc)\n",
    "    false_alarm_rate['Random Forest Classifier'].append(far)\n",
    "    acc,far=models.abc(X_train,X_test,y_train,y_test)\n",
    "    accuracy['AdaBoost Classifier'].append(acc)\n",
    "    false_alarm_rate['AdaBoost Classifier'].append(far)\n",
    "    acc,far=models.mlp(X_train,X_test,y_train,y_test)\n",
    "    accuracy['MLP Classifier'].append(acc)\n",
    "    false_alarm_rate['MLP Classifier'].append(far)\n",
    "    acc,far=models.GBclassifier(X_train,X_test,y_train,y_test)\n",
    "    accuracy['Gradient Boosting Classifier'].append(acc)\n",
    "    false_alarm_rate['Gradient Boosting Classifier'].append(far)\n",
    "    acc,far=models.lr(X_train,X_test,y_train,y_test,max_iter=350)\n",
    "    accuracy['Logistic Regression'].append(acc) #Max Iterations are increased for convergence\n",
    "    false_alarm_rate['Logistic Regression'].append(far) #Max Iterations are increased for convergence\n",
    "    acc,far=models.SGD(X_train,X_test,y_train,y_test)\n",
    "    accuracy['SGD'].append(acc)\n",
    "    false_alarm_rate['SGD'].append(far)\n",
    "    acc,far=models.DT(X_train,X_test,y_train,y_test)\n",
    "    accuracy['Decision Tree'].append(acc)\n",
    "    false_alarm_rate['Decision Tree'].append(far)\n",
    "    acc,far=models.KNN(X_train,X_test,y_train,y_test)\n",
    "    accuracy['KNN Classifier'].append(acc)\n",
    "    false_alarm_rate['KNN Classifier'].append(far)\n",
    "    acc,far=models.Histclassifier(X_train,X_test,y_train,y_test)\n",
    "    accuracy['Histogram Based Gradient Boosting Classifier'].append(acc)\n",
    "    false_alarm_rate['Histogram Based Gradient Boosting Classifier'].append(far)\n",
    "    acc,far=models.GNB(X_train,X_test,y_train,y_test)\n",
    "    accuracy['Gaussian Naive Bias'].append(acc)\n",
    "    false_alarm_rate['Gaussian Naive Bias'].append(far)\n",
    "    #acc,far=models.MNB(X_train,X_test,y_train,y_test)\n",
    "    #accuracy['Multinomial Naive Bias'].append(acc)\n",
    "    #false_alarm_rate['Multinomial Naive Bias'].append(far)\n",
    "    \n",
    "    "
   ]
  },
  {
   "cell_type": "code",
   "execution_count": 63,
   "metadata": {},
   "outputs": [],
   "source": [
    "## Calculating average accuracy for all algorithms\n",
    "\n",
    "import math\n",
    "\n",
    "avg_accuracy={}\n",
    "for key in accuracy.keys() :\n",
    "    avg_accuracy[key]=round(float(np.sum(accuracy[key])*100/len(accuracy[key])),1)"
   ]
  },
  {
   "cell_type": "code",
   "execution_count": 64,
   "metadata": {},
   "outputs": [
    {
     "data": {
      "text/plain": [
       "{'Random Forest Classifier': 98.3,\n",
       " 'AdaBoost Classifier': 96.0,\n",
       " 'MLP Classifier': 91.8,\n",
       " 'Gradient Boosting Classifier': 97.9,\n",
       " 'Logistic Regression': 68.7,\n",
       " 'SGD': 36.1,\n",
       " 'Decision Tree': 98.2,\n",
       " 'KNN Classifier': 98.1,\n",
       " 'Histogram Based Gradient Boosting Classifier': 98.2,\n",
       " 'Gaussian Naive Bias': 53.4}"
      ]
     },
     "execution_count": 64,
     "metadata": {},
     "output_type": "execute_result"
    }
   ],
   "source": [
    "avg_accuracy"
   ]
  },
  {
   "cell_type": "code",
   "execution_count": 65,
   "metadata": {},
   "outputs": [],
   "source": [
    "## calculating average false alarm rate for all algorithms\n",
    "\n",
    "avg_far={}\n",
    "for key in false_alarm_rate.keys() :\n",
    "    avg_far[key]=round(np.sum(false_alarm_rate[key])/len(false_alarm_rate[key]),4)"
   ]
  },
  {
   "cell_type": "code",
   "execution_count": 66,
   "metadata": {},
   "outputs": [
    {
     "data": {
      "text/plain": [
       "{'Random Forest Classifier': 0.0321,\n",
       " 'AdaBoost Classifier': 0.0791,\n",
       " 'MLP Classifier': 0.1747,\n",
       " 'Gradient Boosting Classifier': 0.0397,\n",
       " 'Logistic Regression': 180.774,\n",
       " 'SGD': 22.3831,\n",
       " 'Decision Tree': 0.0329,\n",
       " 'KNN Classifier': 0.035,\n",
       " 'Histogram Based Gradient Boosting Classifier': 0.0334,\n",
       " 'Gaussian Naive Bias': 0.8844}"
      ]
     },
     "execution_count": 66,
     "metadata": {},
     "output_type": "execute_result"
    }
   ],
   "source": [
    "avg_far"
   ]
  },
  {
   "cell_type": "code",
   "execution_count": 14,
   "metadata": {},
   "outputs": [],
   "source": [
    "## Creating an ENSEMBLE model using RandomForrest and HistGradientBoost classifiers\n",
    "\n",
    "from sklearn.ensemble import VotingClassifier\n",
    "from sklearn.ensemble import HistGradientBoostingClassifier,RandomForestClassifier\n",
    "from sklearn.metrics import accuracy_score,confusion_matrix\n",
    "\n",
    "#create a dictionary of our models\n",
    "estimators=[('RF', RandomForestClassifier()), ('hbr', HistGradientBoostingClassifier())]\n",
    "#create our voting classifier, inputting our models\n",
    "ensemble = VotingClassifier(estimators, voting='soft')"
   ]
  },
  {
   "cell_type": "code",
   "execution_count": 15,
   "metadata": {},
   "outputs": [],
   "source": [
    "## training the ensemble\n",
    "\n",
    "accuracy_ens=[]\n",
    "for train_index, test_index in folds.split(x,y) :\n",
    "    X_train, X_test = x.iloc[train_index],x.iloc[test_index]\n",
    "    y_train,y_test=y[train_index],y[test_index]\n",
    "    ensemble.fit(X_train,y_train)\n",
    "    y_pred= ensemble.predict(X_test)\n",
    "    accuracy_ens.append(accuracy_score(y_test,y_pred))"
   ]
  },
  {
   "cell_type": "code",
   "execution_count": 16,
   "metadata": {},
   "outputs": [
    {
     "data": {
      "text/plain": [
       "0.9828058320935699"
      ]
     },
     "execution_count": 16,
     "metadata": {},
     "output_type": "execute_result"
    }
   ],
   "source": [
    "## accuracy for the ensemble model\n",
    "\n",
    "np.sum(accuracy_ens)/len(accuracy_ens)"
   ]
  },
  {
   "cell_type": "code",
   "execution_count": 67,
   "metadata": {},
   "outputs": [
    {
     "data": {
      "image/png": "[encoded data removed]",
      "text/plain": [
       "<Figure size 720x324 with 1 Axes>"
      ]
     },
     "metadata": {
      "needs_background": "light"
     },
     "output_type": "display_data"
    }
   ],
   "source": [
    "## plotting average (cross validation) accuracy for all algorithms in one place for comparision\n",
    "\n",
    "import matplotlib.pyplot as plt\n",
    "plt.rcParams[\"figure.figsize\"] = (10,4.5)\n",
    "fig, ax = plt.subplots()\n",
    "bars=ax.barh(*zip(*avg_accuracy.items()),color=['green', 'blue', 'blue', 'green', 'blue', 'red', 'green', 'green', 'green', 'blue', 'red'])\n",
    "ax.bar_label(bars)\n",
    "plt.xlabel('Average Cross Validation accuracy')\n",
    "plt.ylabel('Classification Model')\n",
    "plt.show()"
   ]
  },
  {
   "cell_type": "markdown",
   "metadata": {},
   "source": [
    "##### Displaying evaluation metrics (accuracy and false alarm rate) for all algorithms"
   ]
  },
  {
   "cell_type": "code",
   "execution_count": 68,
   "metadata": {},
   "outputs": [],
   "source": [
    "model=avg_accuracy.keys()"
   ]
  },
  {
   "cell_type": "code",
   "execution_count": 69,
   "metadata": {},
   "outputs": [],
   "source": [
    "acc=avg_accuracy.values()"
   ]
  },
  {
   "cell_type": "code",
   "execution_count": 70,
   "metadata": {},
   "outputs": [],
   "source": [
    "df1=pd.DataFrame({'Classification Model':model,'Cross validation accuracy':acc})"
   ]
  },
  {
   "cell_type": "code",
   "execution_count": 71,
   "metadata": {},
   "outputs": [],
   "source": [
    "df1['Cross validation accuracy']=df1['Cross validation accuracy']"
   ]
  },
  {
   "cell_type": "code",
   "execution_count": 72,
   "metadata": {},
   "outputs": [
    {
     "data": {
      "text/html": [
       "<div>\n",
       "<style scoped>\n",
       "    .dataframe tbody tr th:only-of-type {\n",
       "        vertical-align: middle;\n",
       "    }\n",
       "\n",
       "    .dataframe tbody tr th {\n",
       "        vertical-align: top;\n",
       "    }\n",
       "\n",
       "    .dataframe thead th {\n",
       "        text-align: right;\n",
       "    }\n",
       "</style>\n",
       "<table border=\"1\" class=\"dataframe\">\n",
       "  <thead>\n",
       "    <tr style=\"text-align: right;\">\n",
       "      <th></th>\n",
       "      <th>Classification Model</th>\n",
       "      <th>Cross validation accuracy</th>\n",
       "    </tr>\n",
       "  </thead>\n",
       "  <tbody>\n",
       "    <tr>\n",
       "      <th>0</th>\n",
       "      <td>Random Forest Classifier</td>\n",
       "      <td>98.3</td>\n",
       "    </tr>\n",
       "    <tr>\n",
       "      <th>1</th>\n",
       "      <td>AdaBoost Classifier</td>\n",
       "      <td>96.0</td>\n",
       "    </tr>\n",
       "    <tr>\n",
       "      <th>2</th>\n",
       "      <td>MLP Classifier</td>\n",
       "      <td>91.8</td>\n",
       "    </tr>\n",
       "    <tr>\n",
       "      <th>3</th>\n",
       "      <td>Gradient Boosting Classifier</td>\n",
       "      <td>97.9</td>\n",
       "    </tr>\n",
       "    <tr>\n",
       "      <th>4</th>\n",
       "      <td>Logistic Regression</td>\n",
       "      <td>68.7</td>\n",
       "    </tr>\n",
       "    <tr>\n",
       "      <th>5</th>\n",
       "      <td>SGD</td>\n",
       "      <td>36.1</td>\n",
       "    </tr>\n",
       "    <tr>\n",
       "      <th>6</th>\n",
       "      <td>Decision Tree</td>\n",
       "      <td>98.2</td>\n",
       "    </tr>\n",
       "    <tr>\n",
       "      <th>7</th>\n",
       "      <td>KNN Classifier</td>\n",
       "      <td>98.1</td>\n",
       "    </tr>\n",
       "    <tr>\n",
       "      <th>8</th>\n",
       "      <td>Histogram Based Gradient Boosting Classifier</td>\n",
       "      <td>98.2</td>\n",
       "    </tr>\n",
       "    <tr>\n",
       "      <th>9</th>\n",
       "      <td>Gaussian Naive Bias</td>\n",
       "      <td>53.4</td>\n",
       "    </tr>\n",
       "  </tbody>\n",
       "</table>\n",
       "</div>"
      ],
      "text/plain": [
       "                           Classification Model  Cross validation accuracy\n",
       "0                      Random Forest Classifier                       98.3\n",
       "1                           AdaBoost Classifier                       96.0\n",
       "2                                MLP Classifier                       91.8\n",
       "3                  Gradient Boosting Classifier                       97.9\n",
       "4                           Logistic Regression                       68.7\n",
       "5                                           SGD                       36.1\n",
       "6                                 Decision Tree                       98.2\n",
       "7                                KNN Classifier                       98.1\n",
       "8  Histogram Based Gradient Boosting Classifier                       98.2\n",
       "9                           Gaussian Naive Bias                       53.4"
      ]
     },
     "execution_count": 72,
     "metadata": {},
     "output_type": "execute_result"
    }
   ],
   "source": [
    "df1"
   ]
  },
  {
   "cell_type": "code",
   "execution_count": 73,
   "metadata": {},
   "outputs": [],
   "source": [
    "far=list(avg_far.values())"
   ]
  },
  {
   "cell_type": "code",
   "execution_count": 74,
   "metadata": {},
   "outputs": [],
   "source": [
    "model=avg_far.keys()"
   ]
  },
  {
   "cell_type": "code",
   "execution_count": 76,
   "metadata": {},
   "outputs": [],
   "source": [
    "df=pd.DataFrame({'Classification Model':model,'False Alarm Rate':far})"
   ]
  },
  {
   "cell_type": "code",
   "execution_count": 77,
   "metadata": {},
   "outputs": [
    {
     "data": {
      "text/html": [
       "<div>\n",
       "<style scoped>\n",
       "    .dataframe tbody tr th:only-of-type {\n",
       "        vertical-align: middle;\n",
       "    }\n",
       "\n",
       "    .dataframe tbody tr th {\n",
       "        vertical-align: top;\n",
       "    }\n",
       "\n",
       "    .dataframe thead th {\n",
       "        text-align: right;\n",
       "    }\n",
       "</style>\n",
       "<table border=\"1\" class=\"dataframe\">\n",
       "  <thead>\n",
       "    <tr style=\"text-align: right;\">\n",
       "      <th></th>\n",
       "      <th>Classification Model</th>\n",
       "      <th>False Alarm Rate</th>\n",
       "    </tr>\n",
       "  </thead>\n",
       "  <tbody>\n",
       "    <tr>\n",
       "      <th>0</th>\n",
       "      <td>Random Forest Classifier</td>\n",
       "      <td>0.0321</td>\n",
       "    </tr>\n",
       "    <tr>\n",
       "      <th>1</th>\n",
       "      <td>AdaBoost Classifier</td>\n",
       "      <td>0.0791</td>\n",
       "    </tr>\n",
       "    <tr>\n",
       "      <th>2</th>\n",
       "      <td>MLP Classifier</td>\n",
       "      <td>0.1747</td>\n",
       "    </tr>\n",
       "    <tr>\n",
       "      <th>3</th>\n",
       "      <td>Gradient Boosting Classifier</td>\n",
       "      <td>0.0397</td>\n",
       "    </tr>\n",
       "    <tr>\n",
       "      <th>4</th>\n",
       "      <td>Logistic Regression</td>\n",
       "      <td>18.0774</td>\n",
       "    </tr>\n",
       "    <tr>\n",
       "      <th>5</th>\n",
       "      <td>SGD</td>\n",
       "      <td>22.3831</td>\n",
       "    </tr>\n",
       "    <tr>\n",
       "      <th>6</th>\n",
       "      <td>Decision Tree</td>\n",
       "      <td>0.0329</td>\n",
       "    </tr>\n",
       "    <tr>\n",
       "      <th>7</th>\n",
       "      <td>KNN Classifier</td>\n",
       "      <td>0.0350</td>\n",
       "    </tr>\n",
       "    <tr>\n",
       "      <th>8</th>\n",
       "      <td>Histogram Based Gradient Boosting Classifier</td>\n",
       "      <td>0.0334</td>\n",
       "    </tr>\n",
       "    <tr>\n",
       "      <th>9</th>\n",
       "      <td>Gaussian Naive Bias</td>\n",
       "      <td>0.8844</td>\n",
       "    </tr>\n",
       "  </tbody>\n",
       "</table>\n",
       "</div>"
      ],
      "text/plain": [
       "                           Classification Model  False Alarm Rate\n",
       "0                      Random Forest Classifier            0.0321\n",
       "1                           AdaBoost Classifier            0.0791\n",
       "2                                MLP Classifier            0.1747\n",
       "3                  Gradient Boosting Classifier            0.0397\n",
       "4                           Logistic Regression           18.0774\n",
       "5                                           SGD           22.3831\n",
       "6                                 Decision Tree            0.0329\n",
       "7                                KNN Classifier            0.0350\n",
       "8  Histogram Based Gradient Boosting Classifier            0.0334\n",
       "9                           Gaussian Naive Bias            0.8844"
      ]
     },
     "execution_count": 77,
     "metadata": {},
     "output_type": "execute_result"
    }
   ],
   "source": [
    "df"
   ]
  },
  {
   "cell_type": "code",
   "execution_count": 78,
   "metadata": {},
   "outputs": [
    {
     "data": {
      "text/html": [
       "<div>\n",
       "<style scoped>\n",
       "    .dataframe tbody tr th:only-of-type {\n",
       "        vertical-align: middle;\n",
       "    }\n",
       "\n",
       "    .dataframe tbody tr th {\n",
       "        vertical-align: top;\n",
       "    }\n",
       "\n",
       "    .dataframe thead th {\n",
       "        text-align: right;\n",
       "    }\n",
       "</style>\n",
       "<table border=\"1\" class=\"dataframe\">\n",
       "  <thead>\n",
       "    <tr style=\"text-align: right;\">\n",
       "      <th></th>\n",
       "      <th>Classification Model</th>\n",
       "      <th>Cross validation accuracy</th>\n",
       "      <th>False Alarm Rate</th>\n",
       "    </tr>\n",
       "  </thead>\n",
       "  <tbody>\n",
       "    <tr>\n",
       "      <th>0</th>\n",
       "      <td>Random Forest Classifier</td>\n",
       "      <td>98.3</td>\n",
       "      <td>0.0321</td>\n",
       "    </tr>\n",
       "    <tr>\n",
       "      <th>1</th>\n",
       "      <td>AdaBoost Classifier</td>\n",
       "      <td>96.0</td>\n",
       "      <td>0.0791</td>\n",
       "    </tr>\n",
       "    <tr>\n",
       "      <th>2</th>\n",
       "      <td>MLP Classifier</td>\n",
       "      <td>91.8</td>\n",
       "      <td>0.1747</td>\n",
       "    </tr>\n",
       "    <tr>\n",
       "      <th>3</th>\n",
       "      <td>Gradient Boosting Classifier</td>\n",
       "      <td>97.9</td>\n",
       "      <td>0.0397</td>\n",
       "    </tr>\n",
       "    <tr>\n",
       "      <th>4</th>\n",
       "      <td>Logistic Regression</td>\n",
       "      <td>68.7</td>\n",
       "      <td>18.0774</td>\n",
       "    </tr>\n",
       "    <tr>\n",
       "      <th>5</th>\n",
       "      <td>SGD</td>\n",
       "      <td>36.1</td>\n",
       "      <td>22.3831</td>\n",
       "    </tr>\n",
       "    <tr>\n",
       "      <th>6</th>\n",
       "      <td>Decision Tree</td>\n",
       "      <td>98.2</td>\n",
       "      <td>0.0329</td>\n",
       "    </tr>\n",
       "    <tr>\n",
       "      <th>7</th>\n",
       "      <td>KNN Classifier</td>\n",
       "      <td>98.1</td>\n",
       "      <td>0.0350</td>\n",
       "    </tr>\n",
       "    <tr>\n",
       "      <th>8</th>\n",
       "      <td>Histogram Based Gradient Boosting Classifier</td>\n",
       "      <td>98.2</td>\n",
       "      <td>0.0334</td>\n",
       "    </tr>\n",
       "    <tr>\n",
       "      <th>9</th>\n",
       "      <td>Gaussian Naive Bias</td>\n",
       "      <td>53.4</td>\n",
       "      <td>0.8844</td>\n",
       "    </tr>\n",
       "  </tbody>\n",
       "</table>\n",
       "</div>"
      ],
      "text/plain": [
       "                           Classification Model  Cross validation accuracy  \\\n",
       "0                      Random Forest Classifier                       98.3   \n",
       "1                           AdaBoost Classifier                       96.0   \n",
       "2                                MLP Classifier                       91.8   \n",
       "3                  Gradient Boosting Classifier                       97.9   \n",
       "4                           Logistic Regression                       68.7   \n",
       "5                                           SGD                       36.1   \n",
       "6                                 Decision Tree                       98.2   \n",
       "7                                KNN Classifier                       98.1   \n",
       "8  Histogram Based Gradient Boosting Classifier                       98.2   \n",
       "9                           Gaussian Naive Bias                       53.4   \n",
       "\n",
       "   False Alarm Rate  \n",
       "0            0.0321  \n",
       "1            0.0791  \n",
       "2            0.1747  \n",
       "3            0.0397  \n",
       "4           18.0774  \n",
       "5           22.3831  \n",
       "6            0.0329  \n",
       "7            0.0350  \n",
       "8            0.0334  \n",
       "9            0.8844  "
      ]
     },
     "execution_count": 78,
     "metadata": {},
     "output_type": "execute_result"
    }
   ],
   "source": [
    "df1['False Alarm Rate']=df['False Alarm Rate']\n",
    "df1"
   ]
  },
  {
   "cell_type": "code",
   "execution_count": null,
   "metadata": {},
   "outputs": [],
   "source": []
  }
 ],
 "metadata": {
  "interpreter": {
   "hash": "c132a1541f55f5599d519ea7fabebdf518618792e14bfc80e4e7434f32fb47e8"
  },
  "kernelspec": {
   "display_name": "Python 3",
   "language": "python",
   "name": "python3"
  },
  "language_info": {
   "codemirror_mode": {
    "name": "ipython",
    "version": 3
   },
   "file_extension": ".py",
   "mimetype": "text/x-python",
   "name": "python",
   "nbconvert_exporter": "python",
   "pygments_lexer": "ipython3",
   "version": "3.9.7"
  }
 },
 "nbformat": 4,
 "nbformat_minor": 2
}
