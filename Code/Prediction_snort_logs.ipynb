{
 "cells": [
  {
   "cell_type": "markdown",
   "metadata": {},
   "source": [
    "#### This notebook is used for making predictions on the snort logs"
   ]
  },
  {
   "cell_type": "code",
   "execution_count": 1,
   "metadata": {},
   "outputs": [],
   "source": [
    "#Importing the required libraries\n",
    "import pandas as pd\n",
    "from sklearn.preprocessing import LabelEncoder\n",
    "from sklearn.ensemble import RandomForestClassifier\n",
    "pd.options.mode.chained_assignment = None  "
   ]
  },
  {
   "cell_type": "markdown",
   "metadata": {},
   "source": [
    "##### The function below preprocesses the training dataset (NSL-KDD) and test set (snort logs) :\n",
    "- Class labelling on the training set\n",
    "- Handling the categorical features using Label encoder\n",
    "- Processing the snort logs\n"
   ]
  },
  {
   "cell_type": "code",
   "execution_count": 2,
   "metadata": {},
   "outputs": [],
   "source": [
    "def Preprocessing(dataset,test) :\n",
    "    test.rename(columns={'protocol': 'protocol_type'}, inplace=True)\n",
    "    test=test[['duration', 'protocol_type', 'src_bytes', 'dst_bytes', 'count','srv_count']]\n",
    "    #Processing the snort logs: Time column is converted to seconds\n",
    "    test[\"protocol_type\"] = test[\"protocol_type\"].str.lower()\n",
    "    test[\"protocol_type\"] = test[\"protocol_type\"].str.strip()\n",
    "    test[\"duration\"] = pd.to_timedelta(test[\"duration\"])\n",
    "    test['duration']=test['duration'].dt.total_seconds()\n",
    "    \n",
    "    X_test = test.values\n",
    "\n",
    "    #Replacing the labels as normal and attack\n",
    "    dataset['class']= dataset['class'].replace(['back', 'buffer_overflow', 'ftp_write', 'guess_passwd', 'imap', 'ipsweep', 'land', 'loadmodule', 'multihop', 'neptune', 'nmap', 'perl', 'phf', 'pod', 'portsweep', 'rootkit', 'satan', 'smurf', 'spy', 'teardrop', 'warezclient', 'warezmaster'], 'attack')\n",
    "    \n",
    "    x = dataset.iloc[:, :-1].values\n",
    "    y = dataset['class'].values\n",
    "\n",
    "    #Handling the categorical Labels\n",
    "    labelencoder_x_1 = LabelEncoder()\n",
    "    x[:, 1] = labelencoder_x_1.fit_transform(x[:, 1])\n",
    "    X_test[:, 1] = labelencoder_x_1.transform(X_test[:, 1])\n",
    "\n",
    "    return x,y,X_test"
   ]
  },
  {
   "cell_type": "code",
   "execution_count": 3,
   "metadata": {},
   "outputs": [],
   "source": [
    "def training(x,y) :\n",
    "    model=RandomForestClassifier()\n",
    "    #Model Training\n",
    "    model.fit(x, y)\n",
    "    #Prediction on test set(Snort Logs)\n",
    "    #y_pred= model.predict(X_test)\n",
    "\n",
    "    return model"
   ]
  },
  {
   "cell_type": "code",
   "execution_count": 4,
   "metadata": {},
   "outputs": [],
   "source": [
    "def predictions(model,X_test) :\n",
    "    y_pred= model.predict(X_test)\n",
    "    return y_pred"
   ]
  },
  {
   "cell_type": "markdown",
   "metadata": {},
   "source": [
    "**Reading the training dataset:**"
   ]
  },
  {
   "cell_type": "code",
   "execution_count": 5,
   "metadata": {},
   "outputs": [],
   "source": [
    "column_names = ['duration','protocol_type','service','flag','src_bytes','dst_bytes','land',\n",
    "'wrong_fragment','urgent','hot','num_failed_logins','logged_in','num_compromised','root_shell',\n",
    "'su_attempted','num_root','num_file_creations','num_shells','num_access_files','num_outbound_cmds',\n",
    "'is_host_login','is_guest_login','count','srv_count','serror_rate','srv_serror_rate','rerror_rate','srv_rerror_rate',\n",
    "'same_srv_rate','diff_srv_rate','srv_diff_host_rate','dst_host_count','dst_host_srv_count',\n",
    "'dst_host_same_srv_rate','dst_host_diff_srv_rate','dst_host_same_src_port_rate','dst_host_srv_diff_host_rate',\n",
    "'dst_host_serror_rate','dst_host_srv_serror_rate','dst_host_rerror_rate','dst_host_srv_rerror_rate', 'class','misc']\n",
    "dataset = pd.read_csv('NSL-KDD/KDDTrain+.txt', header = None,names=column_names,index_col=False)\n",
    "column_names = [\"duration\", \"protocol_type\", \"src_bytes\", \"dst_bytes\", \"count\", \"srv_count\", \"class\"]\n",
    "dataset=dataset[column_names]"
   ]
  },
  {
   "cell_type": "markdown",
   "metadata": {},
   "source": [
    "**Importing the snort Logs** :\n",
    "1. On non-attack logs\n",
    "2. Non-attack logs"
   ]
  },
  {
   "cell_type": "code",
   "execution_count": 6,
   "metadata": {},
   "outputs": [],
   "source": [
    "test1=pd.read_csv('tcplogWithCount_non_attack.csv')\n",
    "test2=pd.read_csv('tcplogWithCount_attack.csv')"
   ]
  },
  {
   "cell_type": "markdown",
   "metadata": {},
   "source": [
    "**Performing preprocessing on the training dataset and the snort logs:**"
   ]
  },
  {
   "cell_type": "code",
   "execution_count": 7,
   "metadata": {},
   "outputs": [],
   "source": [
    "x,y,X_test1=Preprocessing(dataset,test1)\n",
    "x,y,X_test2=Preprocessing(dataset,test2)"
   ]
  },
  {
   "cell_type": "markdown",
   "metadata": {},
   "source": [
    "**Model Training:**"
   ]
  },
  {
   "cell_type": "code",
   "execution_count": 8,
   "metadata": {},
   "outputs": [],
   "source": [
    "model=training(x,y)"
   ]
  },
  {
   "cell_type": "markdown",
   "metadata": {},
   "source": [
    "**Predictions:**"
   ]
  },
  {
   "cell_type": "code",
   "execution_count": 9,
   "metadata": {},
   "outputs": [],
   "source": [
    "y_pred1=predictions(model,X_test1)\n",
    "y_pred2=predictions(model,X_test2)"
   ]
  },
  {
   "cell_type": "markdown",
   "metadata": {},
   "source": [
    "**Results on non-attack logs:**"
   ]
  },
  {
   "cell_type": "code",
   "execution_count": 11,
   "metadata": {},
   "outputs": [
    {
     "data": {
      "text/plain": [
       "Results\n",
       "normal     20\n",
       "dtype: int64"
      ]
     },
     "execution_count": 11,
     "metadata": {},
     "output_type": "execute_result"
    }
   ],
   "source": [
    "df=pd.DataFrame({'Results':y_pred1})\n",
    "df.value_counts()"
   ]
  },
  {
   "cell_type": "markdown",
   "metadata": {},
   "source": [
    "**Result on Attack logs:**"
   ]
  },
  {
   "cell_type": "code",
   "execution_count": 12,
   "metadata": {},
   "outputs": [
    {
     "data": {
      "text/plain": [
       "Results\n",
       "attack     5719\n",
       "normal       27\n",
       "dtype: int64"
      ]
     },
     "execution_count": 12,
     "metadata": {},
     "output_type": "execute_result"
    }
   ],
   "source": [
    "df=pd.DataFrame({'Results':y_pred2})\n",
    "df.value_counts()"
   ]
  }
 ],
 "metadata": {
  "interpreter": {
   "hash": "c132a1541f55f5599d519ea7fabebdf518618792e14bfc80e4e7434f32fb47e8"
  },
  "kernelspec": {
   "display_name": "Python 3.9.7 ('base')",
   "language": "python",
   "name": "python3"
  },
  "language_info": {
   "codemirror_mode": {
    "name": "ipython",
    "version": 3
   },
   "file_extension": ".py",
   "mimetype": "text/x-python",
   "name": "python",
   "nbconvert_exporter": "python",
   "pygments_lexer": "ipython3",
   "version": "3.9.7"
  },
  "orig_nbformat": 4
 },
 "nbformat": 4,
 "nbformat_minor": 2
}
