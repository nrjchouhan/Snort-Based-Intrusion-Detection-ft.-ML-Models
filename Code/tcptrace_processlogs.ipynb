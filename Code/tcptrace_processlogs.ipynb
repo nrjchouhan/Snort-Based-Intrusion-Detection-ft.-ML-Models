{
 "cells": [
  {
   "cell_type": "markdown",
   "metadata": {},
   "source": [
    "**Preprocessing Snort Logs**"
   ]
  },
  {
   "cell_type": "code",
   "execution_count": 3,
   "metadata": {},
   "outputs": [],
   "source": [
    "#Importing required Libraries\n",
    "from datetime import datetime"
   ]
  },
  {
   "cell_type": "code",
   "execution_count": 4,
   "metadata": {},
   "outputs": [
    {
     "data": {
      "text/plain": [
       "82"
      ]
     },
     "execution_count": 4,
     "metadata": {},
     "output_type": "execute_result"
    }
   ],
   "source": [
    "#Importing Files(logs) \n",
    "file_handler = open(\"ddos.txt\", \"r\")\n",
    "output_handler = open(\"tcplog.csv\", \"w\")\n",
    "# Columns\n",
    "columns = [\"datetime\", \"duration\", \"protocol\", \"src\", \"src_port\", \"dst\", \"dst_port\", \"src_bytes\", \"dst_bytes\"]\n",
    "str_columns = \", \".join(columns) + \",\\n\"\n",
    "output_handler.write(str_columns)"
   ]
  },
  {
   "cell_type": "code",
   "execution_count": 5,
   "metadata": {},
   "outputs": [],
   "source": [
    "file_lines = file_handler.readlines()"
   ]
  },
  {
   "cell_type": "code",
   "execution_count": 6,
   "metadata": {},
   "outputs": [],
   "source": [
    "udp_line_num = -1\n",
    "for idx, line in enumerate(file_lines):\n",
    "    if \"UDP connection info\" in line:\n",
    "        udp_line_num = idx\n",
    "        break\n",
    "if udp_line_num == -1:\n",
    "    udp_line_num = len(file_lines)\n",
    "\n"
   ]
  },
  {
   "cell_type": "code",
   "execution_count": 7,
   "metadata": {},
   "outputs": [
    {
     "data": {
      "text/plain": [
       "270068"
      ]
     },
     "execution_count": 7,
     "metadata": {},
     "output_type": "execute_result"
    }
   ],
   "source": [
    "udp_line_num"
   ]
  },
  {
   "cell_type": "code",
   "execution_count": 8,
   "metadata": {},
   "outputs": [
    {
     "data": {
      "text/plain": [
       "\"1 arg remaining, starting with 'snort.log.1650088386'\\n\""
      ]
     },
     "execution_count": 8,
     "metadata": {},
     "output_type": "execute_result"
    }
   ],
   "source": [
    "file_lines[0]"
   ]
  },
  {
   "cell_type": "code",
   "execution_count": 9,
   "metadata": {},
   "outputs": [],
   "source": [
    "def processTCP(tcp_connection_lines, output_handler):\n",
    "    reset_bias = 0\n",
    "    if \"resets sent\" in tcp_connection_lines[13]:\n",
    "        reset_bias = 1\n",
    "    sr_no = tcp_connection_lines[0].strip().split()[2]\n",
    "    start_src = tcp_connection_lines[1].strip().split(\":\")[1].strip()\n",
    "    start_src_port = tcp_connection_lines[1].strip().split(\":\")[-1]\n",
    "    end_src = tcp_connection_lines[2].strip().split(\":\")[1].strip()\n",
    "    end_src_port = tcp_connection_lines[2].strip().split(\":\")[-1]\n",
    "\n",
    "    start_time = \" \".join(tcp_connection_lines[4].strip().split()[3:])\n",
    "    start_time = datetime.strptime(start_time, \"%b %d %H:%M:%S.%f %Y\")\n",
    "    start_time = datetime.strftime(start_time, \"%m/%d-%H:%M:%S.%f\")[:-3]\n",
    "    duration = tcp_connection_lines[6].strip().split()[2]\n",
    "    protocol = \"TCP\"\n",
    "    src_bytes = tcp_connection_lines[18+reset_bias].strip().split()[3]\n",
    "    dst_bytes = tcp_connection_lines[18+reset_bias].strip().split()[7]\n",
    "\n",
    "    output_handler.write(f\"{start_time}, {duration}, {protocol}, {start_src}, {start_src_port}, {end_src}, {end_src_port}, {src_bytes}, {dst_bytes}.\\n\")"
   ]
  },
  {
   "cell_type": "code",
   "execution_count": 10,
   "metadata": {},
   "outputs": [],
   "source": [
    "for i in range(0, -1):\n",
    "    print(i)"
   ]
  },
  {
   "cell_type": "code",
   "execution_count": 11,
   "metadata": {},
   "outputs": [],
   "source": [
    "for idx in range(0, udp_line_num):\n",
    "    line = file_lines[idx]\n",
    "    if (\"arg remaining, starting with\" in line or \n",
    "        \"Ostermann's tcptrace\" in line or  \n",
    "        \"packets seen,\" in line or \n",
    "        \"elapsed wallclock time\" in line or \n",
    "        \"trace file elapsed time\" in line or \n",
    "        \"TCP connection info\" in line or\n",
    "        \"TCP connection traced\" in line):\n",
    "        #print(line)\n",
    "        continue\n",
    "    \n",
    "    elif \"TCP connection \" in line:\n",
    "\n",
    "        idx2 = idx\n",
    "        \n",
    "        while True:\n",
    "            try:\n",
    "                line2 = file_lines[idx2]\n",
    "            except:\n",
    "                break\n",
    "            if \"============================\" in line2:\n",
    "                break\n",
    "            idx2 += 1\n",
    "        \n",
    "        \n",
    "        x = file_lines[idx: idx2]\n",
    "        #print(x)\n",
    "        processTCP(x, output_handler)\n",
    "output_handler.close()"
   ]
  },
  {
   "cell_type": "code",
   "execution_count": null,
   "metadata": {},
   "outputs": [],
   "source": []
  }
 ],
 "metadata": {
  "interpreter": {
   "hash": "6c15b6fbfedcdf0784f9088ccebaf160a9e33f62bfcab5d0151de8aafe12dd7b"
  },
  "kernelspec": {
   "display_name": "Python 3.8.8 ('base')",
   "language": "python",
   "name": "python3"
  },
  "language_info": {
   "codemirror_mode": {
    "name": "ipython",
    "version": 3
   },
   "file_extension": ".py",
   "mimetype": "text/x-python",
   "name": "python",
   "nbconvert_exporter": "python",
   "pygments_lexer": "ipython3",
   "version": "3.9.7"
  },
  "orig_nbformat": 4
 },
 "nbformat": 4,
 "nbformat_minor": 2
}
